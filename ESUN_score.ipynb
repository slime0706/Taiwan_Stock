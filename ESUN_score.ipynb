{
 "cells": [
  {
   "cell_type": "code",
   "execution_count": 1,
   "metadata": {},
   "outputs": [],
   "source": [
    "import pandas as pd\n",
    "esun = pd.read_csv('投顧推薦.csv')\n",
    "esun.drop(['Team','member','Products','stock_name','recomment_date','closing_price','current_price','RofR','udt'],axis = 1,inplace = True)"
   ]
  },
  {
   "cell_type": "code",
   "execution_count": 2,
   "metadata": {},
   "outputs": [],
   "source": [
    "esun['Datadt'] = esun['Datadt'].astype(str)"
   ]
  },
  {
   "cell_type": "code",
   "execution_count": 3,
   "metadata": {},
   "outputs": [],
   "source": [
    "esun['date_wk'] = pd.to_datetime(esun['Datadt'])"
   ]
  },
  {
   "cell_type": "code",
   "execution_count": 4,
   "metadata": {},
   "outputs": [],
   "source": [
    "esun['date_wk'] = esun['date_wk'] + pd.tseries.offsets.Week(weekday=0)"
   ]
  },
  {
   "cell_type": "code",
   "execution_count": 5,
   "metadata": {},
   "outputs": [],
   "source": [
    "esun['date_wk'] = esun['date_wk'] - pd.tseries.offsets.Week(n=2)"
   ]
  },
  {
   "cell_type": "code",
   "execution_count": 6,
   "metadata": {},
   "outputs": [],
   "source": [
    "stock_status = pd.read_pickle('stock_status_new.pk')"
   ]
  },
  {
   "cell_type": "code",
   "execution_count": 7,
   "metadata": {},
   "outputs": [
    {
     "data": {
      "text/plain": [
       "Index(['stock', 'date', 'up_or_down', 'up_or_down_150'], dtype='object')"
      ]
     },
     "execution_count": 7,
     "metadata": {},
     "output_type": "execute_result"
    }
   ],
   "source": [
    "stock_status.columns"
   ]
  },
  {
   "cell_type": "code",
   "execution_count": 8,
   "metadata": {},
   "outputs": [],
   "source": [
    "stock_status['stock_id'] = stock_status['stock']\n",
    "stock_status.drop(['stock','up_or_down'],axis=1,inplace=True)"
   ]
  },
  {
   "cell_type": "code",
   "execution_count": 9,
   "metadata": {},
   "outputs": [],
   "source": [
    "stock_status['date'] = pd.to_datetime(stock_status['date'])"
   ]
  },
  {
   "cell_type": "code",
   "execution_count": 10,
   "metadata": {},
   "outputs": [],
   "source": [
    "stock_status['date_wk'] = stock_status['date'] - pd.tseries.offsets.Week(weekday=0)"
   ]
  },
  {
   "cell_type": "code",
   "execution_count": 11,
   "metadata": {},
   "outputs": [],
   "source": [
    "esun_final = pd.merge(esun,stock_status,on=['stock_id','date_wk'],how='left')\n",
    "#esun.iloc[1200:1300,:]"
   ]
  },
  {
   "cell_type": "code",
   "execution_count": 12,
   "metadata": {},
   "outputs": [],
   "source": [
    "esun_final = esun_final.dropna()"
   ]
  },
  {
   "cell_type": "code",
   "execution_count": 13,
   "metadata": {},
   "outputs": [
    {
     "data": {
      "text/plain": [
       "'up_or_down_150'"
      ]
     },
     "execution_count": 13,
     "metadata": {},
     "output_type": "execute_result"
    }
   ],
   "source": [
    "esun_final.columns[4]"
   ]
  },
  {
   "cell_type": "code",
   "execution_count": 14,
   "metadata": {},
   "outputs": [],
   "source": [
    "esun_final.rename(columns={ esun_final.columns[4]: \"y_true\" }, inplace=True)"
   ]
  },
  {
   "cell_type": "code",
   "execution_count": 15,
   "metadata": {},
   "outputs": [
    {
     "data": {
      "text/plain": [
       "(1661, 5)"
      ]
     },
     "execution_count": 15,
     "metadata": {},
     "output_type": "execute_result"
    }
   ],
   "source": [
    "esun_final = esun_final.drop_duplicates()\n",
    "esun_final.shape"
   ]
  },
  {
   "cell_type": "code",
   "execution_count": 16,
   "metadata": {},
   "outputs": [],
   "source": [
    "list_150 = pd.read_excel(\"150_list.xlsx\")"
   ]
  },
  {
   "cell_type": "code",
   "execution_count": 17,
   "metadata": {},
   "outputs": [],
   "source": [
    "list_150.rename(columns={ list_150.columns[0]: \"stock_id\" }, inplace=True)"
   ]
  },
  {
   "cell_type": "code",
   "execution_count": 18,
   "metadata": {},
   "outputs": [],
   "source": [
    "list_150['stock_id'] = list_150['stock_id'].astype(str)"
   ]
  },
  {
   "cell_type": "code",
   "execution_count": 19,
   "metadata": {},
   "outputs": [],
   "source": [
    "esun_final_150 = pd.merge(esun_final,list_150,on=['stock_id'],how='inner')"
   ]
  },
  {
   "cell_type": "code",
   "execution_count": 20,
   "metadata": {},
   "outputs": [
    {
     "data": {
      "text/html": [
       "<div>\n",
       "<style scoped>\n",
       "    .dataframe tbody tr th:only-of-type {\n",
       "        vertical-align: middle;\n",
       "    }\n",
       "\n",
       "    .dataframe tbody tr th {\n",
       "        vertical-align: top;\n",
       "    }\n",
       "\n",
       "    .dataframe thead th {\n",
       "        text-align: right;\n",
       "    }\n",
       "</style>\n",
       "<table border=\"1\" class=\"dataframe\">\n",
       "  <thead>\n",
       "    <tr style=\"text-align: right;\">\n",
       "      <th></th>\n",
       "      <th>Datadt</th>\n",
       "      <th>stock_id</th>\n",
       "      <th>date_wk</th>\n",
       "      <th>date</th>\n",
       "      <th>y_true</th>\n",
       "    </tr>\n",
       "  </thead>\n",
       "  <tbody>\n",
       "    <tr>\n",
       "      <th>0</th>\n",
       "      <td>20160104</td>\n",
       "      <td>2106</td>\n",
       "      <td>2015-12-28</td>\n",
       "      <td>2015-12-31</td>\n",
       "      <td>1.0</td>\n",
       "    </tr>\n",
       "    <tr>\n",
       "      <th>1</th>\n",
       "      <td>20160111</td>\n",
       "      <td>2106</td>\n",
       "      <td>2016-01-04</td>\n",
       "      <td>2016-01-08</td>\n",
       "      <td>1.0</td>\n",
       "    </tr>\n",
       "    <tr>\n",
       "      <th>2</th>\n",
       "      <td>20160118</td>\n",
       "      <td>2106</td>\n",
       "      <td>2016-01-11</td>\n",
       "      <td>2016-01-15</td>\n",
       "      <td>0.0</td>\n",
       "    </tr>\n",
       "    <tr>\n",
       "      <th>3</th>\n",
       "      <td>20160125</td>\n",
       "      <td>2106</td>\n",
       "      <td>2016-01-18</td>\n",
       "      <td>2016-01-22</td>\n",
       "      <td>0.0</td>\n",
       "    </tr>\n",
       "    <tr>\n",
       "      <th>4</th>\n",
       "      <td>20160201</td>\n",
       "      <td>2106</td>\n",
       "      <td>2016-01-25</td>\n",
       "      <td>2016-01-30</td>\n",
       "      <td>0.0</td>\n",
       "    </tr>\n",
       "  </tbody>\n",
       "</table>\n",
       "</div>"
      ],
      "text/plain": [
       "     Datadt stock_id    date_wk       date  y_true\n",
       "0  20160104     2106 2015-12-28 2015-12-31     1.0\n",
       "1  20160111     2106 2016-01-04 2016-01-08     1.0\n",
       "2  20160118     2106 2016-01-11 2016-01-15     0.0\n",
       "3  20160125     2106 2016-01-18 2016-01-22     0.0\n",
       "4  20160201     2106 2016-01-25 2016-01-30     0.0"
      ]
     },
     "execution_count": 20,
     "metadata": {},
     "output_type": "execute_result"
    }
   ],
   "source": [
    "esun_final_150.head()"
   ]
  },
  {
   "cell_type": "code",
   "execution_count": 21,
   "metadata": {},
   "outputs": [],
   "source": [
    "# esun_final['y_pred'] = 1\n",
    "# esun_final['y_true'] = esun_final['y_true'].astype(int)\n",
    "esun_final_150['y_pred'] = 1\n",
    "esun_final_150['y_true'] = esun_final_150['y_true'].astype(int)"
   ]
  },
  {
   "cell_type": "code",
   "execution_count": 22,
   "metadata": {},
   "outputs": [],
   "source": [
    "# esun_final_test = esun_final[esun_final['date_wk'].between(\"2018-07-01\",\"2018-09-30\")]\n",
    "esun_final_test_150 = esun_final_150[esun_final_150['date_wk'].between(\"2018-07-01\",\"2018-09-30\")]"
   ]
  },
  {
   "cell_type": "code",
   "execution_count": 23,
   "metadata": {},
   "outputs": [
    {
     "data": {
      "text/plain": [
       "2018-08-27    12\n",
       "2018-09-17    11\n",
       "2018-09-10    11\n",
       "2018-08-20    11\n",
       "2018-08-13    10\n",
       "2018-08-06    10\n",
       "2018-07-30     9\n",
       "2018-07-23     9\n",
       "2018-07-16     9\n",
       "2018-07-09     8\n",
       "2018-07-02     8\n",
       "Name: date_wk, dtype: int64"
      ]
     },
     "execution_count": 23,
     "metadata": {},
     "output_type": "execute_result"
    }
   ],
   "source": [
    "# esun_final_test.date_wk.value_counts()\n",
    "esun_final_test_150.date_wk.value_counts()"
   ]
  },
  {
   "cell_type": "code",
   "execution_count": 29,
   "metadata": {},
   "outputs": [
    {
     "name": "stdout",
     "output_type": "stream",
     "text": [
      "0.5171583383503914\n",
      "0.5171583383503914\n",
      "0.5171583383503914\n",
      "0.5171583383503914\n",
      "             precision    recall  f1-score   support\n",
      "\n",
      "          0     0.0000    0.0000    0.0000       802\n",
      "          1     0.5172    1.0000    0.6817       859\n",
      "\n",
      "avg / total     0.2675    0.5172    0.3526      1661\n",
      "\n"
     ]
    },
    {
     "name": "stderr",
     "output_type": "stream",
     "text": [
      "/anaconda3/lib/python3.6/site-packages/sklearn/metrics/classification.py:1135: UndefinedMetricWarning: Precision and F-score are ill-defined and being set to 0.0 in labels with no predicted samples.\n",
      "  'precision', 'predicted', average, warn_for)\n"
     ]
    }
   ],
   "source": [
    "from sklearn import metrics\n",
    "from sklearn.metrics import classification_report\n",
    "precision = metrics.precision_score(esun_final_150['y_true'], esun_final_150['y_pred'], average='micro')\n",
    "print(precision)\n",
    "recall = metrics.recall_score(esun_final_150['y_true'], esun_final_150['y_pred'], average='micro')\n",
    "print(recall)\n",
    "f1 = metrics.f1_score(esun_final_150['y_true'], esun_final_150['y_pred'], average='micro')\n",
    "print(f1)\n",
    "print(2*((precision*recall)/(precision+recall)))\n",
    "print(classification_report(esun_final_150['y_true'],esun_final_150['y_pred'],digits=4))"
   ]
  },
  {
   "cell_type": "code",
   "execution_count": 30,
   "metadata": {},
   "outputs": [
    {
     "name": "stdout",
     "output_type": "stream",
     "text": [
      "0.6018518518518519\n",
      "0.6018518518518519\n",
      "0.6018518518518519\n",
      "0.6018518518518519\n",
      "             precision    recall  f1-score   support\n",
      "\n",
      "          0     0.0000    0.0000    0.0000        43\n",
      "          1     0.6019    1.0000    0.7514        65\n",
      "\n",
      "avg / total     0.3622    0.6019    0.4523       108\n",
      "\n"
     ]
    },
    {
     "name": "stderr",
     "output_type": "stream",
     "text": [
      "/anaconda3/lib/python3.6/site-packages/sklearn/metrics/classification.py:1135: UndefinedMetricWarning: Precision and F-score are ill-defined and being set to 0.0 in labels with no predicted samples.\n",
      "  'precision', 'predicted', average, warn_for)\n"
     ]
    }
   ],
   "source": [
    "precision = metrics.precision_score(esun_final_test_150['y_true'], esun_final_test_150['y_pred'], average='micro')\n",
    "print(precision)\n",
    "recall = metrics.recall_score(esun_final_test_150['y_true'], esun_final_test_150['y_pred'], average='micro')\n",
    "print(recall)\n",
    "f1 = metrics.f1_score(esun_final_test_150['y_true'], esun_final_test_150['y_pred'], average='micro')\n",
    "print(f1)\n",
    "print(2*((precision*recall)/(precision+recall)))\n",
    "print(classification_report(esun_final_test_150['y_true'],esun_final_test_150['y_pred'],digits=4))"
   ]
  },
  {
   "cell_type": "code",
   "execution_count": null,
   "metadata": {},
   "outputs": [],
   "source": []
  }
 ],
 "metadata": {
  "kernelspec": {
   "display_name": "Python 3",
   "language": "python",
   "name": "python3"
  },
  "language_info": {
   "codemirror_mode": {
    "name": "ipython",
    "version": 3
   },
   "file_extension": ".py",
   "mimetype": "text/x-python",
   "name": "python",
   "nbconvert_exporter": "python",
   "pygments_lexer": "ipython3",
   "version": "3.6.5"
  }
 },
 "nbformat": 4,
 "nbformat_minor": 2
}
