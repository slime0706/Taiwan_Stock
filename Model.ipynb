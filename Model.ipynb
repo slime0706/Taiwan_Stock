{
 "cells": [
  {
   "cell_type": "code",
   "execution_count": 2,
   "metadata": {},
   "outputs": [],
   "source": [
    "import pandas as pd\n",
    "import numpy as np\n",
    "three_margin_hopen_mer = pd.read_pickle('three_margin_hopen_mer.pk')\n",
    "com_rev_mon_y = pd.read_pickle('com_rev_mon_y.pkl')\n",
    "kiki_merge_new = pd.read_pickle('kiki_merge_new.pk')"
   ]
  },
  {
   "cell_type": "code",
   "execution_count": 3,
   "metadata": {},
   "outputs": [],
   "source": [
    "com_rev_mon_y['date'] = pd.to_datetime(com_rev_mon_y['date'])"
   ]
  },
  {
   "cell_type": "code",
   "execution_count": 4,
   "metadata": {},
   "outputs": [],
   "source": [
    "com_rev_mon_y.drop(['stock_status','market_status','up_or_down'],axis = 1,inplace = True)\n",
    "kiki_merge_new.drop(['up_or_down'],axis = 1,inplace = True)\n",
    "three_margin_hopen_mer.drop(['up_or_down'],axis = 1,inplace = True)"
   ]
  },
  {
   "cell_type": "code",
   "execution_count": 5,
   "metadata": {},
   "outputs": [],
   "source": [
    "pop = pd.merge(com_rev_mon_y,kiki_merge_new,on=['stock','date'],how='left')\n",
    "pop = pd.merge(pop,three_margin_hopen_mer,on=['stock','date'],how='left')"
   ]
  },
  {
   "cell_type": "code",
   "execution_count": 6,
   "metadata": {},
   "outputs": [],
   "source": [
    "stock_status = pd.read_pickle('stock_status_new.pk')"
   ]
  },
  {
   "cell_type": "code",
   "execution_count": 7,
   "metadata": {},
   "outputs": [
    {
     "data": {
      "text/plain": [
       "Index(['stock', 'date', 'up_or_down', 'up_or_down_150'], dtype='object')"
      ]
     },
     "execution_count": 7,
     "metadata": {},
     "output_type": "execute_result"
    }
   ],
   "source": [
    "stock_status.columns"
   ]
  },
  {
   "cell_type": "code",
   "execution_count": 8,
   "metadata": {},
   "outputs": [],
   "source": [
    "stock_status['date'] = pd.to_datetime(stock_status['date'])"
   ]
  },
  {
   "cell_type": "code",
   "execution_count": 9,
   "metadata": {},
   "outputs": [],
   "source": [
    "stock_status = stock_status.drop(['up_or_down'],axis=1)"
   ]
  },
  {
   "cell_type": "code",
   "execution_count": 10,
   "metadata": {},
   "outputs": [],
   "source": [
    "pop = pd.merge(pop,stock_status,on=['stock','date'],how='left')"
   ]
  },
  {
   "cell_type": "code",
   "execution_count": 11,
   "metadata": {},
   "outputs": [],
   "source": [
    "list_150 = pd.read_excel(\"150_list.xlsx\")\n",
    "list_150['stock'] = list_150['stock'].astype(str)\n",
    "pop = pd.merge(pop,list_150,on=['stock'],how='inner')"
   ]
  },
  {
   "cell_type": "code",
   "execution_count": 12,
   "metadata": {},
   "outputs": [],
   "source": [
    "pop.drop(['abt_rev_29','stock_y','abt_rev_13','abt_rev_16'],axis = 1,inplace = True)"
   ]
  },
  {
   "cell_type": "code",
   "execution_count": 13,
   "metadata": {},
   "outputs": [],
   "source": [
    "mapping = {'H':1,'L':0}\n",
    "pop['abt_rev_18'] = pop['abt_rev_18'].map(mapping)\n",
    "pop['abt_rev_19'] = pop['abt_rev_19'].map(mapping)\n",
    "pop['abt_rev_20'] = pop['abt_rev_20'].map(mapping)\n",
    "pop['abt_rev_96'] = pop['abt_rev_96'].map(mapping)"
   ]
  },
  {
   "cell_type": "code",
   "execution_count": 14,
   "metadata": {},
   "outputs": [
    {
     "data": {
      "text/plain": [
       "stock    object\n",
       "dtype: object"
      ]
     },
     "execution_count": 14,
     "metadata": {},
     "output_type": "execute_result"
    }
   ],
   "source": [
    "pop.dtypes[pop.dtypes == 'object']\n",
    "# pop[['abt_rev_18','abt_rev_19','abt_rev_20','abt_rev_96']]\n",
    "# pop.abt_rev_96.value_counts()\n",
    "# pop.info()"
   ]
  },
  {
   "cell_type": "code",
   "execution_count": 39,
   "metadata": {},
   "outputs": [],
   "source": [
    "train = pop[pop['date'].between(\"2017-04-01\",\"2018-03-31\")]\n",
    "val = pop[pop['date'].between(\"2018-04-01\",\"2018-06-30\")]\n",
    "test = pop[pop['date'].between(\"2018-07-01\",\"2018-09-30\")]"
   ]
  },
  {
   "cell_type": "code",
   "execution_count": 40,
   "metadata": {},
   "outputs": [
    {
     "data": {
      "text/plain": [
       "0.0    4109\n",
       "1.0    3535\n",
       "Name: up_or_down_150, dtype: int64"
      ]
     },
     "execution_count": 40,
     "metadata": {},
     "output_type": "execute_result"
    }
   ],
   "source": [
    "train.up_or_down_150.value_counts()"
   ]
  },
  {
   "cell_type": "code",
   "execution_count": 41,
   "metadata": {},
   "outputs": [],
   "source": [
    "X_train = train.drop(['date','stock','up_or_down_150'],axis = 1)\n",
    "y_train = train['up_or_down_150']\n",
    "X_val = val.drop(['date','stock','up_or_down_150'],axis = 1)\n",
    "y_val = val['up_or_down_150']\n",
    "X_test = test.drop(['date','stock','up_or_down_150'],axis = 1)\n",
    "y_test = test['up_or_down_150']"
   ]
  },
  {
   "cell_type": "code",
   "execution_count": 42,
   "metadata": {},
   "outputs": [
    {
     "data": {
      "text/plain": [
       "LGBMClassifier(boosting_type='gbdt', class_weight=None, colsample_bytree=1.0,\n",
       "        importance_type='split', learning_rate=0.1, max_depth=-1,\n",
       "        min_child_samples=20, min_child_weight=0.001, min_split_gain=0.0,\n",
       "        n_estimators=100, n_jobs=-1, num_leaves=31, objective=None,\n",
       "        random_state=None, reg_alpha=0.0, reg_lambda=0.0, silent=True,\n",
       "        subsample=1.0, subsample_for_bin=200000, subsample_freq=0)"
      ]
     },
     "execution_count": 42,
     "metadata": {},
     "output_type": "execute_result"
    }
   ],
   "source": [
    "import lightgbm as lgb\n",
    "gbm = lgb.LGBMClassifier(\n",
    "#         num_leaves=50,\n",
    "#         max_depth =8,\n",
    "#           learning_rate=0.01,\n",
    "#           n_estimators=1000\n",
    "#         min_child_samples = 20,\n",
    "#         colsample_tree = 0.6,\n",
    "#         eval_set=[(X_val, y_val)]\n",
    "        )\n",
    "gbm.fit(X_train,y_train)"
   ]
  },
  {
   "cell_type": "code",
   "execution_count": 43,
   "metadata": {},
   "outputs": [],
   "source": [
    "# from sklearn.metrics import classification_report\n",
    "# X_tra_pred = gbm.predict(X_train)\n",
    "# print(classification_report(y_train,X_tra_pred))\n",
    "# X_val1_pred = gbm.predict(X_val1)\n",
    "# print(classification_report(y_val1,X_val1_pred))\n",
    "# X_val2_pred = gbm.predict(X_val2)\n",
    "# print(classification_report(y_val2,X_val2_pred))\n",
    "# X_val3_pred = gbm.predict(X_val3)\n",
    "# print(classification_report(y_val3,X_val3_pred))"
   ]
  },
  {
   "cell_type": "code",
   "execution_count": 44,
   "metadata": {},
   "outputs": [
    {
     "name": "stdout",
     "output_type": "stream",
     "text": [
      "                             imporatance\n",
      "DL_BS_mean                            31\n",
      "SSS_diff_ratio_min                    31\n",
      "SSS_mt_ratio_min                      29\n",
      "BSM_mt_ratio_min                      27\n",
      "Trade_Value_max                       26\n",
      "DL_Pro_BS_mean                        25\n",
      "BSM_diff_value_mean                   25\n",
      "abt_rev_7                             24\n",
      "BSM_diff_ratio_min                    24\n",
      "SSS_diff_ratio_mean                   24\n",
      "DL_Pro_BS_value_min                   23\n",
      "BSM_diff_ratio_mean                   22\n",
      "abt_rev_6                             21\n",
      "BSM_buy_value_min                     20\n",
      "BSM_diff_ratio_max                    20\n",
      "BSM_tra_ratio_max                     19\n",
      "VTR_max                               19\n",
      "ROI_max                               19\n",
      "FI_BS_min                             19\n",
      "DL_Sell_cnt_min                       18\n",
      "abt_rev_9                             18\n",
      "SSS_diff_ratio_max                    17\n",
      "DL_Pro_BS_value_mean                  17\n",
      "abt_rev_14                            17\n",
      "SSS_mt_ratio_max                      17\n",
      "SL_sell_cnt_mean                      16\n",
      "DL_Pro_BS_max                         16\n",
      "FI_to_ratio_max                       16\n",
      "Trade_Value_min                       16\n",
      "BSM_tra_ratio_mean                    16\n",
      "...                                  ...\n",
      "market_60d_avg_price                   1\n",
      "25d_avg_price                          1\n",
      "Imarket_value_min                      1\n",
      "market_72d_avg_price                   1\n",
      "market_125d_avg_price                  1\n",
      "DY_min                                 1\n",
      "closing_price_min                      1\n",
      "market_3m_high_close                   1\n",
      "abt_rev_105                            1\n",
      "3d_avg_price                           1\n",
      "avg_price                              1\n",
      "market_125d_avg_cnt                    1\n",
      "12m_high_close                         1\n",
      "Total_stock_ratio_mean                 1\n",
      "closing_price_mean                     1\n",
      "abt_rev_68                             1\n",
      "abt_rev_77                             1\n",
      "3m_high_close                          1\n",
      "market_close_price                     1\n",
      "future_lowest_price                    1\n",
      "Trade_Value_mean                       1\n",
      "60d_avg_cnt                            1\n",
      "market_55_highest_cnt                  1\n",
      "FI_total_stock_ratio_min               1\n",
      "market_9m_low_close                    1\n",
      "market_20d_avg_cnt                     1\n",
      "abt_rev_24                             1\n",
      "market_72_avg_value                    1\n",
      "25d_avg_value                          1\n",
      "cashing_dividend_ratio_mean            1\n",
      "\n",
      "[416 rows x 1 columns]\n"
     ]
    }
   ],
   "source": [
    "importances = pd.DataFrame(gbm.feature_importances_,index=X_train.columns,columns=['imporatance']).sort_values('imporatance',ascending=False)\n",
    "print(importances[importances['imporatance'] > 0])\n",
    "var_list = list(importances[importances['imporatance'] > 0].index)"
   ]
  },
  {
   "cell_type": "code",
   "execution_count": 45,
   "metadata": {},
   "outputs": [],
   "source": [
    "X_train = X_train[var_list]\n",
    "y_train = train['up_or_down_150']\n",
    "X_val = X_val[var_list]\n",
    "y_val = val['up_or_down_150']\n",
    "X_test = X_test[var_list]\n",
    "y_test = test['up_or_down_150']"
   ]
  },
  {
   "cell_type": "code",
   "execution_count": 118,
   "metadata": {},
   "outputs": [
    {
     "data": {
      "text/plain": [
       "LGBMClassifier(boosting_type='gbdt', class_weight=None, colsample_bytree=0.8,\n",
       "        importance_type='split', learning_rate=0.1, max_depth=10,\n",
       "        min_child_samples=20, min_child_weight=0.001, min_split_gain=0.0,\n",
       "        n_estimators=200, n_jobs=-1, num_leaves=70, objective=None,\n",
       "        random_state=None, reg_alpha=0.0, reg_lambda=0.0, silent=True,\n",
       "        subsample=1.0, subsample_for_bin=200000, subsample_freq=0)"
      ]
     },
     "execution_count": 118,
     "metadata": {},
     "output_type": "execute_result"
    }
   ],
   "source": [
    "import lightgbm as lgb\n",
    "gbm = lgb.LGBMClassifier(\n",
    "        num_leaves=70,\n",
    "        max_depth =10,\n",
    "        learning_rate=0.1,\n",
    "        n_estimators=200,\n",
    "#         min_child_samples = 15,\n",
    "        colsample_bytree = 0.8,\n",
    "#         subsample = 0.8\n",
    "#         eval_set=[(X_val, y_val)]\n",
    "        )\n",
    "gbm.fit(X_train,y_train)"
   ]
  },
  {
   "cell_type": "code",
   "execution_count": 132,
   "metadata": {},
   "outputs": [
    {
     "name": "stderr",
     "output_type": "stream",
     "text": [
      "/anaconda3/lib/python3.6/site-packages/sklearn/preprocessing/label.py:151: DeprecationWarning: The truth value of an empty array is ambiguous. Returning False, but in future this will result in an error. Use `array.size > 0` to check that an array is not empty.\n",
      "  if diff:\n"
     ]
    },
    {
     "name": "stdout",
     "output_type": "stream",
     "text": [
      "             precision    recall  f1-score   support\n",
      "\n",
      "        0.0       1.00      1.00      1.00      4109\n",
      "        1.0       1.00      1.00      1.00      3535\n",
      "\n",
      "avg / total       1.00      1.00      1.00      7644\n",
      "\n",
      "             precision    recall  f1-score   support\n",
      "\n",
      "        0.0       0.54      0.51      0.52       965\n",
      "        1.0       0.53      0.56      0.54       946\n",
      "\n",
      "avg / total       0.53      0.53      0.53      1911\n",
      "\n"
     ]
    },
    {
     "name": "stderr",
     "output_type": "stream",
     "text": [
      "/anaconda3/lib/python3.6/site-packages/sklearn/preprocessing/label.py:151: DeprecationWarning: The truth value of an empty array is ambiguous. Returning False, but in future this will result in an error. Use `array.size > 0` to check that an array is not empty.\n",
      "  if diff:\n"
     ]
    }
   ],
   "source": [
    "from sklearn.metrics import classification_report\n",
    "X_tra_pred = gbm.predict(X_train)\n",
    "X_tra_prob = gbm.predict_proba(X_train)\n",
    "X_tra_pd = pd.DataFrame.from_records(X_tra_prob,columns=['y_0_prob','y_1_prob'])\n",
    "XY_tra = pd.concat((train[['date','stock']].reset_index(inplace=False,drop=True),pd.DataFrame(X_tra_pred,columns=['y_pred']),X_tra_pd['y_1_prob']),axis=1)\n",
    "print(classification_report(y_train,X_tra_pred))\n",
    "X_val_pred = gbm.predict(X_val)\n",
    "X_val_prob = gbm.predict_proba(X_val)\n",
    "X_val_pd = pd.DataFrame.from_records(X_val_prob,columns=['y_0_prob','y_1_prob'])\n",
    "XY_val = pd.concat((val[['date','stock']].reset_index(inplace=False,drop=True),pd.DataFrame(X_val_pred,columns=['y_pred']),X_val_pd['y_1_prob']),axis=1)\n",
    "print(classification_report(y_val,X_val_pred))"
   ]
  },
  {
   "cell_type": "code",
   "execution_count": 185,
   "metadata": {},
   "outputs": [
    {
     "name": "stdout",
     "output_type": "stream",
     "text": [
      "             precision    recall  f1-score   support\n",
      "\n",
      "        0.0       0.50      0.65      0.56       906\n",
      "        1.0       0.56      0.41      0.48      1005\n",
      "\n",
      "avg / total       0.53      0.52      0.52      1911\n",
      "\n"
     ]
    },
    {
     "name": "stderr",
     "output_type": "stream",
     "text": [
      "/anaconda3/lib/python3.6/site-packages/sklearn/preprocessing/label.py:151: DeprecationWarning: The truth value of an empty array is ambiguous. Returning False, but in future this will result in an error. Use `array.size > 0` to check that an array is not empty.\n",
      "  if diff:\n"
     ]
    }
   ],
   "source": [
    "X_test_pred = gbm.predict(X_test)\n",
    "X_test_prob = gbm.predict_proba(X_test)\n",
    "X_test_pd = pd.DataFrame.from_records(X_test_prob,columns=['y_0_prob','y_1_prob'])\n",
    "XY_test = pd.concat((test[['date','stock']].reset_index(inplace=False,drop=True),pd.DataFrame(X_test_pred,columns=['y_pred']),X_test_pd['y_1_prob'],y_test.reset_index(inplace=False,drop=True)),axis=1)\n",
    "print(classification_report(y_test,X_test_pred))"
   ]
  },
  {
   "cell_type": "code",
   "execution_count": 186,
   "metadata": {},
   "outputs": [],
   "source": [
    "XY_test_order = XY_test.sort_values(['date','y_1_prob'],ascending=[True,False])"
   ]
  },
  {
   "cell_type": "code",
   "execution_count": 188,
   "metadata": {},
   "outputs": [
    {
     "data": {
      "text/html": [
       "<div>\n",
       "<style scoped>\n",
       "    .dataframe tbody tr th:only-of-type {\n",
       "        vertical-align: middle;\n",
       "    }\n",
       "\n",
       "    .dataframe tbody tr th {\n",
       "        vertical-align: top;\n",
       "    }\n",
       "\n",
       "    .dataframe thead th {\n",
       "        text-align: right;\n",
       "    }\n",
       "</style>\n",
       "<table border=\"1\" class=\"dataframe\">\n",
       "  <thead>\n",
       "    <tr style=\"text-align: right;\">\n",
       "      <th></th>\n",
       "      <th>date</th>\n",
       "      <th>stock</th>\n",
       "      <th>y_pred</th>\n",
       "      <th>y_1_prob</th>\n",
       "      <th>up_or_down_150</th>\n",
       "    </tr>\n",
       "  </thead>\n",
       "  <tbody>\n",
       "    <tr>\n",
       "      <th>208</th>\n",
       "      <td>2018-07-06</td>\n",
       "      <td>1589</td>\n",
       "      <td>1.0</td>\n",
       "      <td>0.960866</td>\n",
       "      <td>0.0</td>\n",
       "    </tr>\n",
       "    <tr>\n",
       "      <th>1690</th>\n",
       "      <td>2018-07-06</td>\n",
       "      <td>6414</td>\n",
       "      <td>1.0</td>\n",
       "      <td>0.948526</td>\n",
       "      <td>0.0</td>\n",
       "    </tr>\n",
       "    <tr>\n",
       "      <th>143</th>\n",
       "      <td>2018-07-06</td>\n",
       "      <td>1440</td>\n",
       "      <td>1.0</td>\n",
       "      <td>0.883815</td>\n",
       "      <td>1.0</td>\n",
       "    </tr>\n",
       "    <tr>\n",
       "      <th>1833</th>\n",
       "      <td>2018-07-06</td>\n",
       "      <td>9914</td>\n",
       "      <td>1.0</td>\n",
       "      <td>0.864433</td>\n",
       "      <td>0.0</td>\n",
       "    </tr>\n",
       "    <tr>\n",
       "      <th>793</th>\n",
       "      <td>2018-07-06</td>\n",
       "      <td>2385</td>\n",
       "      <td>1.0</td>\n",
       "      <td>0.818294</td>\n",
       "      <td>1.0</td>\n",
       "    </tr>\n",
       "  </tbody>\n",
       "</table>\n",
       "</div>"
      ],
      "text/plain": [
       "           date stock  y_pred  y_1_prob  up_or_down_150\n",
       "208  2018-07-06  1589     1.0  0.960866             0.0\n",
       "1690 2018-07-06  6414     1.0  0.948526             0.0\n",
       "143  2018-07-06  1440     1.0  0.883815             1.0\n",
       "1833 2018-07-06  9914     1.0  0.864433             0.0\n",
       "793  2018-07-06  2385     1.0  0.818294             1.0"
      ]
     },
     "execution_count": 188,
     "metadata": {},
     "output_type": "execute_result"
    }
   ],
   "source": [
    "XY_test_order.head()"
   ]
  },
  {
   "cell_type": "code",
   "execution_count": 194,
   "metadata": {},
   "outputs": [],
   "source": [
    "XY_report = XY_test_order[XY_test_order['date'] == '2018-07-06'].iloc[0:10,2:5]"
   ]
  },
  {
   "cell_type": "code",
   "execution_count": 195,
   "metadata": {},
   "outputs": [],
   "source": [
    "other_date = XY_test_order[~XY_test_order['date'].isin(['2018-07-06','2018-09-28','2018-09-07']) ].date.unique()"
   ]
  },
  {
   "cell_type": "code",
   "execution_count": 196,
   "metadata": {},
   "outputs": [
    {
     "data": {
      "text/plain": [
       "array(['2018-07-13T00:00:00.000000000', '2018-07-20T00:00:00.000000000',\n",
       "       '2018-07-27T00:00:00.000000000', '2018-08-03T00:00:00.000000000',\n",
       "       '2018-08-10T00:00:00.000000000', '2018-08-17T00:00:00.000000000',\n",
       "       '2018-08-24T00:00:00.000000000', '2018-08-31T00:00:00.000000000',\n",
       "       '2018-09-14T00:00:00.000000000', '2018-09-21T00:00:00.000000000'],\n",
       "      dtype='datetime64[ns]')"
      ]
     },
     "execution_count": 196,
     "metadata": {},
     "output_type": "execute_result"
    }
   ],
   "source": [
    "other_date"
   ]
  },
  {
   "cell_type": "code",
   "execution_count": 197,
   "metadata": {},
   "outputs": [],
   "source": [
    "for i in other_date:\n",
    "    XY_report = pd.concat((XY_report,XY_test_order[XY_test_order['date'] == i].iloc[0:10,2:5]),axis=0)"
   ]
  },
  {
   "cell_type": "code",
   "execution_count": 198,
   "metadata": {},
   "outputs": [
    {
     "data": {
      "text/plain": [
       "1.0    110\n",
       "Name: y_pred, dtype: int64"
      ]
     },
     "execution_count": 198,
     "metadata": {},
     "output_type": "execute_result"
    }
   ],
   "source": [
    "XY_report.y_pred.value_counts()"
   ]
  },
  {
   "cell_type": "code",
   "execution_count": 199,
   "metadata": {},
   "outputs": [
    {
     "name": "stdout",
     "output_type": "stream",
     "text": [
      "             precision    recall  f1-score   support\n",
      "\n",
      "        0.0     0.0000    0.0000    0.0000        48\n",
      "        1.0     0.5636    1.0000    0.7209        62\n",
      "\n",
      "avg / total     0.3177    0.5636    0.4063       110\n",
      "\n"
     ]
    },
    {
     "name": "stderr",
     "output_type": "stream",
     "text": [
      "/anaconda3/lib/python3.6/site-packages/sklearn/metrics/classification.py:1135: UndefinedMetricWarning: Precision and F-score are ill-defined and being set to 0.0 in labels with no predicted samples.\n",
      "  'precision', 'predicted', average, warn_for)\n"
     ]
    }
   ],
   "source": [
    "print(classification_report(XY_report['up_or_down_150'],XY_report['y_pred'],digits=4))"
   ]
  },
  {
   "cell_type": "code",
   "execution_count": 121,
   "metadata": {},
   "outputs": [],
   "source": [
    "X_test_order = X_test_pd.sort_values('y_1_prob',ascending=False)\n",
    "y_test_new = y_test.reset_index(inplace=False,drop=True)"
   ]
  },
  {
   "cell_type": "code",
   "execution_count": 122,
   "metadata": {},
   "outputs": [
    {
     "name": "stdout",
     "output_type": "stream",
     "text": [
      "precision@10\n",
      "\n",
      "             precision    recall  f1-score   support\n",
      "\n",
      "        0.0     0.0000    0.0000    0.0000         6\n",
      "        1.0     0.4000    1.0000    0.5714         4\n",
      "\n",
      "avg / total     0.1600    0.4000    0.2286        10\n",
      "\n",
      "\n",
      "\n",
      "precision@20\n",
      "\n",
      "             precision    recall  f1-score   support\n",
      "\n",
      "        0.0     0.0000    0.0000    0.0000        10\n",
      "        1.0     0.5000    1.0000    0.6667        10\n",
      "\n",
      "avg / total     0.2500    0.5000    0.3333        20\n",
      "\n",
      "\n",
      "\n",
      "precision@30\n",
      "\n",
      "             precision    recall  f1-score   support\n",
      "\n",
      "        0.0     0.0000    0.0000    0.0000        14\n",
      "        1.0     0.5333    1.0000    0.6957        16\n",
      "\n",
      "avg / total     0.2844    0.5333    0.3710        30\n",
      "\n",
      "\n",
      "\n",
      "precision@40\n",
      "\n",
      "             precision    recall  f1-score   support\n",
      "\n",
      "        0.0     0.0000    0.0000    0.0000        16\n",
      "        1.0     0.6000    1.0000    0.7500        24\n",
      "\n",
      "avg / total     0.3600    0.6000    0.4500        40\n",
      "\n",
      "\n",
      "\n",
      "precision@50\n",
      "\n",
      "             precision    recall  f1-score   support\n",
      "\n",
      "        0.0     0.0000    0.0000    0.0000        21\n",
      "        1.0     0.5800    1.0000    0.7342        29\n",
      "\n",
      "avg / total     0.3364    0.5800    0.4258        50\n",
      "\n",
      "\n",
      "\n"
     ]
    },
    {
     "name": "stderr",
     "output_type": "stream",
     "text": [
      "/anaconda3/lib/python3.6/site-packages/sklearn/metrics/classification.py:1135: UndefinedMetricWarning: Precision and F-score are ill-defined and being set to 0.0 in labels with no predicted samples.\n",
      "  'precision', 'predicted', average, warn_for)\n"
     ]
    }
   ],
   "source": [
    "for i in [10,20,30,40,50]:\n",
    "    y_report = y_test_new[y_test_new.index.isin(X_test_order.iloc[0:i,1:2].index)]\n",
    "    ones = pd.DataFrame(np.ones(i),columns=['y_pred'])\n",
    "    y_report = pd.concat((y_report.reset_index(inplace=False,drop=True),ones),axis=1)\n",
    "    print('precision@'+str(i)+'\\n')\n",
    "    print(classification_report(y_report['up_or_down_150'],y_report['y_pred'],digits=4))\n",
    "    print('\\n')"
   ]
  },
  {
   "cell_type": "code",
   "execution_count": 234,
   "metadata": {},
   "outputs": [],
   "source": [
    "XY_tra_1 = XY_tra[XY_tra['y_pred'] == 1]"
   ]
  },
  {
   "cell_type": "code",
   "execution_count": 235,
   "metadata": {},
   "outputs": [],
   "source": [
    "XY_tra_1 = pd.merge(XY_tra_1.drop(['y_pred'],axis=1),pop,on=['stock','date'],how='inner')"
   ]
  },
  {
   "cell_type": "code",
   "execution_count": 236,
   "metadata": {},
   "outputs": [],
   "source": [
    "XY_tra_1['key'] = XY_tra_1['date'].astype('str') + '||' + XY_tra_1['stock']"
   ]
  },
  {
   "cell_type": "code",
   "execution_count": 237,
   "metadata": {},
   "outputs": [],
   "source": [
    "from itertools import combinations\n",
    "stocklist_tra = XY_tra_1.key.unique()\n",
    "XY_tra_1_permu = list(combinations(stocklist_tra,2))"
   ]
  },
  {
   "cell_type": "code",
   "execution_count": 238,
   "metadata": {},
   "outputs": [],
   "source": [
    "XY_tra_1_permu_pd = pd.DataFrame.from_records(XY_tra_1_permu,columns=['key_1','key_2'])"
   ]
  },
  {
   "cell_type": "code",
   "execution_count": 239,
   "metadata": {},
   "outputs": [],
   "source": [
    "XY_tra_1_permu_pd = XY_tra_1_permu_pd[XY_tra_1_permu_pd.key_1.str[12:17] != XY_tra_1_permu_pd.key_2.str[12:17]]"
   ]
  },
  {
   "cell_type": "code",
   "execution_count": 240,
   "metadata": {},
   "outputs": [],
   "source": [
    "XY_tra_1_permu_100 = XY_tra_1_permu_pd.sample(n=1000000)"
   ]
  },
  {
   "cell_type": "code",
   "execution_count": 241,
   "metadata": {},
   "outputs": [],
   "source": [
    "stock_market_status = pd.read_pickle('stock_market_status_new.pk')\n",
    "stock_market_status['key'] = stock_market_status['date'].astype('str') + '||' + stock_market_status['stock']\n",
    "status = stock_market_status[['key','stock_status']]"
   ]
  },
  {
   "cell_type": "code",
   "execution_count": 242,
   "metadata": {},
   "outputs": [
    {
     "data": {
      "text/html": [
       "<div>\n",
       "<style scoped>\n",
       "    .dataframe tbody tr th:only-of-type {\n",
       "        vertical-align: middle;\n",
       "    }\n",
       "\n",
       "    .dataframe tbody tr th {\n",
       "        vertical-align: top;\n",
       "    }\n",
       "\n",
       "    .dataframe thead th {\n",
       "        text-align: right;\n",
       "    }\n",
       "</style>\n",
       "<table border=\"1\" class=\"dataframe\">\n",
       "  <thead>\n",
       "    <tr style=\"text-align: right;\">\n",
       "      <th></th>\n",
       "      <th>key</th>\n",
       "      <th>stock_status</th>\n",
       "    </tr>\n",
       "  </thead>\n",
       "  <tbody>\n",
       "    <tr>\n",
       "      <th>0</th>\n",
       "      <td>2015-10-08||1101</td>\n",
       "      <td>6.62</td>\n",
       "    </tr>\n",
       "    <tr>\n",
       "      <th>1</th>\n",
       "      <td>2015-10-08||1102</td>\n",
       "      <td>3.07</td>\n",
       "    </tr>\n",
       "    <tr>\n",
       "      <th>2</th>\n",
       "      <td>2015-10-08||1216</td>\n",
       "      <td>0.70</td>\n",
       "    </tr>\n",
       "    <tr>\n",
       "      <th>3</th>\n",
       "      <td>2015-10-08||1227</td>\n",
       "      <td>0.27</td>\n",
       "    </tr>\n",
       "    <tr>\n",
       "      <th>4</th>\n",
       "      <td>2015-10-08||1262</td>\n",
       "      <td>6.01</td>\n",
       "    </tr>\n",
       "  </tbody>\n",
       "</table>\n",
       "</div>"
      ],
      "text/plain": [
       "                key  stock_status\n",
       "0  2015-10-08||1101          6.62\n",
       "1  2015-10-08||1102          3.07\n",
       "2  2015-10-08||1216          0.70\n",
       "3  2015-10-08||1227          0.27\n",
       "4  2015-10-08||1262          6.01"
      ]
     },
     "execution_count": 242,
     "metadata": {},
     "output_type": "execute_result"
    }
   ],
   "source": [
    "status.head()"
   ]
  },
  {
   "cell_type": "code",
   "execution_count": 243,
   "metadata": {},
   "outputs": [],
   "source": [
    "XY_tra_final = pd.merge(XY_tra_1_permu_100,XY_tra_1,left_on = 'key_1',right_on = 'key' ,how = 'left')\n",
    "XY_tra_final = XY_tra_final.drop(['key'],ajxis=1)\n",
    "XY_tra_final = pd.merge(XY_tra_final,status,left_on = 'key_1',right_on = 'key' ,how = 'left')\n",
    "XY_tra_final = XY_tra_final.drop(['key'],axis=1)"
   ]
  },
  {
   "cell_type": "code",
   "execution_count": 244,
   "metadata": {},
   "outputs": [],
   "source": [
    "XY_tra_final = pd.merge(XY_tra_final,XY_tra_1,left_on = 'key_2',right_on = 'key' ,how = 'left',suffixes = ['_1','_2'])\n",
    "XY_tra_final = XY_tra_final.drop(['key'],axis=1)\n",
    "XY_tra_final = pd.merge(XY_tra_final,status,left_on = 'key_2',right_on = 'key' ,how = 'left',suffixes = ['_1','_2'])\n",
    "XY_tra_final = XY_tra_final.drop(['key'],axis=1)"
   ]
  },
  {
   "cell_type": "code",
   "execution_count": 245,
   "metadata": {},
   "outputs": [],
   "source": [
    "XY_tra_var = pd.DataFrame(XY_tra_final.columns,columns=['var'])"
   ]
  },
  {
   "cell_type": "code",
   "execution_count": 246,
   "metadata": {},
   "outputs": [],
   "source": [
    "XY_tra_var.to_csv('XY_tra_var.csv')"
   ]
  },
  {
   "cell_type": "code",
   "execution_count": 277,
   "metadata": {},
   "outputs": [
    {
     "data": {
      "text/html": [
       "<div>\n",
       "<style scoped>\n",
       "    .dataframe tbody tr th:only-of-type {\n",
       "        vertical-align: middle;\n",
       "    }\n",
       "\n",
       "    .dataframe tbody tr th {\n",
       "        vertical-align: top;\n",
       "    }\n",
       "\n",
       "    .dataframe thead th {\n",
       "        text-align: right;\n",
       "    }\n",
       "</style>\n",
       "<table border=\"1\" class=\"dataframe\">\n",
       "  <thead>\n",
       "    <tr style=\"text-align: right;\">\n",
       "      <th></th>\n",
       "      <th>date</th>\n",
       "      <th>stock</th>\n",
       "      <th>y_pred</th>\n",
       "    </tr>\n",
       "  </thead>\n",
       "  <tbody>\n",
       "    <tr>\n",
       "      <th>0</th>\n",
       "      <td>2016-01-08</td>\n",
       "      <td>1101</td>\n",
       "      <td>1.0</td>\n",
       "    </tr>\n",
       "    <tr>\n",
       "      <th>1</th>\n",
       "      <td>2016-01-15</td>\n",
       "      <td>1101</td>\n",
       "      <td>1.0</td>\n",
       "    </tr>\n",
       "    <tr>\n",
       "      <th>3</th>\n",
       "      <td>2016-01-30</td>\n",
       "      <td>1101</td>\n",
       "      <td>1.0</td>\n",
       "    </tr>\n",
       "    <tr>\n",
       "      <th>5</th>\n",
       "      <td>2016-02-19</td>\n",
       "      <td>1101</td>\n",
       "      <td>1.0</td>\n",
       "    </tr>\n",
       "    <tr>\n",
       "      <th>6</th>\n",
       "      <td>2016-02-26</td>\n",
       "      <td>1101</td>\n",
       "      <td>1.0</td>\n",
       "    </tr>\n",
       "  </tbody>\n",
       "</table>\n",
       "</div>"
      ],
      "text/plain": [
       "        date stock  y_pred\n",
       "0 2016-01-08  1101     1.0\n",
       "1 2016-01-15  1101     1.0\n",
       "3 2016-01-30  1101     1.0\n",
       "5 2016-02-19  1101     1.0\n",
       "6 2016-02-26  1101     1.0"
      ]
     },
     "execution_count": 277,
     "metadata": {},
     "output_type": "execute_result"
    }
   ],
   "source": [
    "list(range(len(x_permu)))\n",
    "stocklist=all_data_select.stock.unique()[0:3]\n",
    "stock_date=all_data_select.date.unique()[0:3]\n",
    "x_permu=list(combinations(stocklist,2))\n",
    "x_len = len(x_permu)\n",
    "for i in range(x_len):\n",
    "    s_0 = all_data_select['stock'] == x_permu[i][0]\n",
    "    s_1 = all_data_select['stock'] == x_permu[i][1]\n",
    "    stock_1 = all_data_select[s_0].reset_index()\n",
    "    stock_2 = all_data_select[s_1].reset_index()\n",
    "    stock_comb = pd.merge(stock_1,stock_2,how = 'left',on = 'date',suffixes = ['_1','_2'])\n",
    "    exec('stock_comb_{} = stock_comb'.format(i))\n"
   ]
  },
  {
   "cell_type": "code",
   "execution_count": 280,
   "metadata": {},
   "outputs": [],
   "source": [
    "stock_market_status = pd.read_pickle('stock_market_status_new.pk')"
   ]
  },
  {
   "cell_type": "code",
   "execution_count": 281,
   "metadata": {},
   "outputs": [
    {
     "data": {
      "text/html": [
       "<div>\n",
       "<style scoped>\n",
       "    .dataframe tbody tr th:only-of-type {\n",
       "        vertical-align: middle;\n",
       "    }\n",
       "\n",
       "    .dataframe tbody tr th {\n",
       "        vertical-align: top;\n",
       "    }\n",
       "\n",
       "    .dataframe thead th {\n",
       "        text-align: right;\n",
       "    }\n",
       "</style>\n",
       "<table border=\"1\" class=\"dataframe\">\n",
       "  <thead>\n",
       "    <tr style=\"text-align: right;\">\n",
       "      <th></th>\n",
       "      <th>stock</th>\n",
       "      <th>date</th>\n",
       "      <th>stock_status</th>\n",
       "      <th>market_status</th>\n",
       "      <th>up_or_down</th>\n",
       "      <th>stock_mean_150</th>\n",
       "      <th>up_or_down_150</th>\n",
       "    </tr>\n",
       "  </thead>\n",
       "  <tbody>\n",
       "    <tr>\n",
       "      <th>0</th>\n",
       "      <td>1101</td>\n",
       "      <td>2015-10-08</td>\n",
       "      <td>6.62</td>\n",
       "      <td>1.7</td>\n",
       "      <td>1</td>\n",
       "      <td>1.114178</td>\n",
       "      <td>1</td>\n",
       "    </tr>\n",
       "    <tr>\n",
       "      <th>1</th>\n",
       "      <td>1102</td>\n",
       "      <td>2015-10-08</td>\n",
       "      <td>3.07</td>\n",
       "      <td>1.7</td>\n",
       "      <td>1</td>\n",
       "      <td>1.114178</td>\n",
       "      <td>1</td>\n",
       "    </tr>\n",
       "    <tr>\n",
       "      <th>2</th>\n",
       "      <td>1216</td>\n",
       "      <td>2015-10-08</td>\n",
       "      <td>0.70</td>\n",
       "      <td>1.7</td>\n",
       "      <td>0</td>\n",
       "      <td>1.114178</td>\n",
       "      <td>0</td>\n",
       "    </tr>\n",
       "    <tr>\n",
       "      <th>3</th>\n",
       "      <td>1227</td>\n",
       "      <td>2015-10-08</td>\n",
       "      <td>0.27</td>\n",
       "      <td>1.7</td>\n",
       "      <td>0</td>\n",
       "      <td>1.114178</td>\n",
       "      <td>0</td>\n",
       "    </tr>\n",
       "    <tr>\n",
       "      <th>4</th>\n",
       "      <td>1262</td>\n",
       "      <td>2015-10-08</td>\n",
       "      <td>6.01</td>\n",
       "      <td>1.7</td>\n",
       "      <td>1</td>\n",
       "      <td>1.114178</td>\n",
       "      <td>1</td>\n",
       "    </tr>\n",
       "  </tbody>\n",
       "</table>\n",
       "</div>"
      ],
      "text/plain": [
       "  stock        date  stock_status  market_status  up_or_down  stock_mean_150  \\\n",
       "0  1101  2015-10-08          6.62            1.7           1        1.114178   \n",
       "1  1102  2015-10-08          3.07            1.7           1        1.114178   \n",
       "2  1216  2015-10-08          0.70            1.7           0        1.114178   \n",
       "3  1227  2015-10-08          0.27            1.7           0        1.114178   \n",
       "4  1262  2015-10-08          6.01            1.7           1        1.114178   \n",
       "\n",
       "   up_or_down_150  \n",
       "0               1  \n",
       "1               1  \n",
       "2               0  \n",
       "3               0  \n",
       "4               1  "
      ]
     },
     "execution_count": 281,
     "metadata": {},
     "output_type": "execute_result"
    }
   ],
   "source": [
    "stock_market_status.head()"
   ]
  },
  {
   "cell_type": "code",
   "execution_count": null,
   "metadata": {},
   "outputs": [],
   "source": []
  }
 ],
 "metadata": {
  "kernelspec": {
   "display_name": "Python 3",
   "language": "python",
   "name": "python3"
  },
  "language_info": {
   "codemirror_mode": {
    "name": "ipython",
    "version": 3
   },
   "file_extension": ".py",
   "mimetype": "text/x-python",
   "name": "python",
   "nbconvert_exporter": "python",
   "pygments_lexer": "ipython3",
   "version": "3.6.5"
  }
 },
 "nbformat": 4,
 "nbformat_minor": 2
}
